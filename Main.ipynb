{
 "cells": [
  {
   "cell_type": "code",
   "execution_count": 13,
   "metadata": {},
   "outputs": [],
   "source": [
    "from torchvision import datasets\n",
    "from torchvision.transforms import ToTensor"
   ]
  },
  {
   "cell_type": "code",
   "execution_count": 17,
   "metadata": {},
   "outputs": [],
   "source": [
    "train_data = datasets.MNIST(\n",
    "    root = 'data',\n",
    "    train = True,\n",
    "    transform = ToTensor(),\n",
    "    download = True\n",
    ")\n",
    "\n",
    "test_data = datasets.MNIST(\n",
    "    root = 'data',\n",
    "    train = False,\n",
    "    transform = ToTensor(),\n",
    "    download = True\n",
    ")"
   ]
  },
  {
   "cell_type": "code",
   "execution_count": 18,
   "metadata": {},
   "outputs": [
    {
     "data": {
      "text/plain": [
       "Dataset MNIST\n",
       "    Number of datapoints: 60000\n",
       "    Root location: data\n",
       "    Split: Train\n",
       "    StandardTransform\n",
       "Transform: ToTensor()"
      ]
     },
     "execution_count": 18,
     "metadata": {},
     "output_type": "execute_result"
    }
   ],
   "source": [
    "train_data"
   ]
  },
  {
   "cell_type": "code",
   "execution_count": 19,
   "metadata": {},
   "outputs": [
    {
     "data": {
      "text/plain": [
       "Dataset MNIST\n",
       "    Number of datapoints: 10000\n",
       "    Root location: data\n",
       "    Split: Test\n",
       "    StandardTransform\n",
       "Transform: ToTensor()"
      ]
     },
     "execution_count": 19,
     "metadata": {},
     "output_type": "execute_result"
    }
   ],
   "source": [
    "test_data"
   ]
  },
  {
   "cell_type": "code",
   "execution_count": 20,
   "metadata": {},
   "outputs": [
    {
     "data": {
      "text/plain": [
       "torch.Size([60000, 28, 28])"
      ]
     },
     "execution_count": 20,
     "metadata": {},
     "output_type": "execute_result"
    }
   ],
   "source": [
    "train_data.data.shape"
   ]
  },
  {
   "cell_type": "code",
   "execution_count": 21,
   "metadata": {},
   "outputs": [
    {
     "data": {
      "text/plain": [
       "torch.Size([10000, 28, 28])"
      ]
     },
     "execution_count": 21,
     "metadata": {},
     "output_type": "execute_result"
    }
   ],
   "source": [
    "test_data.data.shape"
   ]
  },
  {
   "cell_type": "code",
   "execution_count": 11,
   "metadata": {},
   "outputs": [
    {
     "data": {
      "text/plain": [
       "torch.Size([60000])"
      ]
     },
     "execution_count": 11,
     "metadata": {},
     "output_type": "execute_result"
    }
   ],
   "source": [
    "train_data.targets.size()"
   ]
  },
  {
   "cell_type": "code",
   "execution_count": 22,
   "metadata": {},
   "outputs": [
    {
     "data": {
      "text/plain": [
       "tensor([5, 0, 4,  ..., 5, 6, 8])"
      ]
     },
     "execution_count": 22,
     "metadata": {},
     "output_type": "execute_result"
    }
   ],
   "source": [
    "train_data.targets"
   ]
  },
  {
   "cell_type": "code",
   "execution_count": 25,
   "metadata": {},
   "outputs": [],
   "source": [
    "from torch.utils.data import DataLoader\n",
    "\n",
    "loaders = {\n",
    "\n",
    "    'train' : DataLoader(train_data,\n",
    "                         batch_size=100,\n",
    "                         shuffle=True,\n",
    "                         num_workers=1\n",
    "    ),\n",
    "\n",
    "    'test' : DataLoader(test_data,\n",
    "                         batch_size=100,\n",
    "                         shuffle=True,\n",
    "                         num_workers=1\n",
    "    ),\n",
    "}"
   ]
  },
  {
   "cell_type": "code",
   "execution_count": 26,
   "metadata": {},
   "outputs": [
    {
     "ename": "SyntaxError",
     "evalue": "invalid syntax (3421849350.py, line 7)",
     "output_type": "error",
     "traceback": [
      "\u001b[1;36m  Cell \u001b[1;32mIn[26], line 7\u001b[1;36m\u001b[0m\n\u001b[1;33m    def_init_(self):\u001b[0m\n\u001b[1;37m                   ^\u001b[0m\n\u001b[1;31mSyntaxError\u001b[0m\u001b[1;31m:\u001b[0m invalid syntax\n"
     ]
    }
   ],
   "source": [
    "import torch.nn as nn\n",
    "import torch.nn.functional as F\n",
    "import torch.optim as optim\n",
    "\n",
    "class CNN(nn.Module):\n",
    "\n",
    "    def_init_(self):\n",
    "        super(CNN, self)._init_()\n",
    "\n",
    "        self.conv1 = nn.Conv2d(1, 10, kernel_size=5)\n",
    "        self.conv2 = nn.Conv2d(10, 20, kernel_size=5)\n",
    "        self.conv2_drop = nn.Dropout2d()\n",
    "        self.fc1 = nn.Linear(320, 50)\n",
    "        self.fc2 = nn.Linear(50, 10)\n",
    "\n",
    "    def forward(self, x):\n",
    "        x = F.relu(F.max_pool2d(self.conv1(x), 2))\n",
    "        x = F.relu(F.max_pool2d(self.conv2_drop(self.conv2(x)), 2))\n",
    "        x = F.view(-1, 320)\n",
    "        x = F.relu(self.fcl(x))\n",
    "        x = F.dropout(x, training=self.training)\n",
    "        x = self.fc2(x)\n",
    "\n",
    "        return F.softmax(x)"
   ]
  },
  {
   "cell_type": "code",
   "execution_count": 27,
   "metadata": {},
   "outputs": [],
   "source": [
    "import torch.nn as nn\n",
    "import torch.nn.functional as F\n",
    "import torch.optim as optim\n",
    "\n",
    "class CNN(nn.Module):\n",
    "\n",
    "    def __init__(self):\n",
    "        super(CNN, self).__init__()\n",
    "\n",
    "        self.conv1 = nn.Conv2d(1, 10, kernel_size=5)\n",
    "        self.conv2 = nn.Conv2d(10, 20, kernel_size=5)\n",
    "        self.conv2_drop = nn.Dropout2d()\n",
    "        self.fc1 = nn.Linear(320, 50)\n",
    "        self.fc2 = nn.Linear(50, 10)\n",
    "\n",
    "    def forward(self, x):\n",
    "        x = F.relu(F.max_pool2d(self.conv1(x), 2))\n",
    "        x = F.relu(F.max_pool2d(self.conv2_drop(self.conv2(x)), 2))\n",
    "        x = x.view(-1, 320)  # Corrected to use x.view\n",
    "        x = F.relu(self.fc1(x))  # Corrected self.fcl to self.fc1\n",
    "        x = F.dropout(x, training=self.training)\n",
    "        x = self.fc2(x)\n",
    "\n",
    "        return F.softmax(x, dim=1)  # Added dim=1 for softmax\n"
   ]
  },
  {
   "cell_type": "code",
   "execution_count": 29,
   "metadata": {},
   "outputs": [],
   "source": [
    "import torch\n",
    "\n",
    "device = torch.device('cuda' if torch.cuda.is_available() else 'cpu')\n",
    "\n",
    "model = CNN().to(device)\n",
    "optimizer = optim.Adam(model.parameters(), lr=0.001)\n",
    "\n",
    "loss_fn = nn.CrossEntropyLoss()\n",
    "\n",
    "def train(epoch):\n",
    "    model.train()\n",
    "    for batch_idx, (data, target) in enumerate(loaders['train']):\n",
    "        data, target = data.to(device), target.to(device)\n",
    "        optimizer.zero_grad()\n",
    "        output = model(data)\n",
    "        loss = loss_fn(output, target)\n",
    "        loss.backward()\n",
    "        optimizer.step()\n",
    "        if batch_idx % 20 == 0:\n",
    "            print(f'Train Epoch: {epoch} [{batch_idx * len(data)}/{len(loaders[\"train\"].dataset)} ({100. * batch_idx / len(loaders[\"train\"]):.0f}%)]\\tLoss: {loss.item():.6f}')\n",
    "\n",
    "\n",
    "def test():\n",
    "    model.eval()  # Set the model to evaluation mode\n",
    "\n",
    "    test_loss = 0\n",
    "    correct = 0\n",
    "\n",
    "    with torch.no_grad():  # No need to compute gradients during testing\n",
    "        for data, target in loaders['test']:\n",
    "            data, target = data.to(device), target.to(device)  # Move data and target to the appropriate device\n",
    "            output = model(data)  # Get model predictions\n",
    "            test_loss += loss_fn(output, target).item()  # Accumulate loss\n",
    "            pred = output.argmax(dim=1, keepdim=True)  # Get the index of the max log-probability\n",
    "            correct += pred.eq(target.view_as(pred)).sum().item()  # Count correct predictions\n",
    "\n",
    "    test_loss /= len(loaders['test'].dataset)  # Calculate average loss\n",
    "\n",
    "    accuracy = 100. * correct / len(loaders['test'].dataset)  # Calculate accuracy\n",
    "    print(f'\\nTest set: Average loss: {test_loss:.4f}, Accuracy: {correct}/{len(loaders[\"test\"].dataset)} ({100. *correct / len(loaders[\"test\"].dataset):.0f}%\\n')\n"
   ]
  },
  {
   "cell_type": "code",
   "execution_count": 30,
   "metadata": {},
   "outputs": [
    {
     "name": "stdout",
     "output_type": "stream",
     "text": [
      "Train Epoch: 1 [0/60000 (0%)]\tLoss: 2.303349\n",
      "Train Epoch: 1 [2000/60000 (3%)]\tLoss: 2.286038\n",
      "Train Epoch: 1 [4000/60000 (7%)]\tLoss: 2.207223\n",
      "Train Epoch: 1 [6000/60000 (10%)]\tLoss: 2.000471\n",
      "Train Epoch: 1 [8000/60000 (13%)]\tLoss: 1.933598\n",
      "Train Epoch: 1 [10000/60000 (17%)]\tLoss: 1.814113\n",
      "Train Epoch: 1 [12000/60000 (20%)]\tLoss: 1.808788\n",
      "Train Epoch: 1 [14000/60000 (23%)]\tLoss: 1.847966\n",
      "Train Epoch: 1 [16000/60000 (27%)]\tLoss: 1.757896\n",
      "Train Epoch: 1 [18000/60000 (30%)]\tLoss: 1.727346\n",
      "Train Epoch: 1 [20000/60000 (33%)]\tLoss: 1.785586\n",
      "Train Epoch: 1 [22000/60000 (37%)]\tLoss: 1.713832\n",
      "Train Epoch: 1 [24000/60000 (40%)]\tLoss: 1.686790\n",
      "Train Epoch: 1 [26000/60000 (43%)]\tLoss: 1.685197\n",
      "Train Epoch: 1 [28000/60000 (47%)]\tLoss: 1.680573\n",
      "Train Epoch: 1 [30000/60000 (50%)]\tLoss: 1.591515\n",
      "Train Epoch: 1 [32000/60000 (53%)]\tLoss: 1.637545\n",
      "Train Epoch: 1 [34000/60000 (57%)]\tLoss: 1.604409\n",
      "Train Epoch: 1 [36000/60000 (60%)]\tLoss: 1.625784\n",
      "Train Epoch: 1 [38000/60000 (63%)]\tLoss: 1.629785\n",
      "Train Epoch: 1 [40000/60000 (67%)]\tLoss: 1.603871\n",
      "Train Epoch: 1 [42000/60000 (70%)]\tLoss: 1.619546\n",
      "Train Epoch: 1 [44000/60000 (73%)]\tLoss: 1.600621\n",
      "Train Epoch: 1 [46000/60000 (77%)]\tLoss: 1.598011\n",
      "Train Epoch: 1 [48000/60000 (80%)]\tLoss: 1.563206\n",
      "Train Epoch: 1 [50000/60000 (83%)]\tLoss: 1.632698\n",
      "Train Epoch: 1 [52000/60000 (87%)]\tLoss: 1.652140\n",
      "Train Epoch: 1 [54000/60000 (90%)]\tLoss: 1.563261\n",
      "Train Epoch: 1 [56000/60000 (93%)]\tLoss: 1.568316\n",
      "Train Epoch: 1 [58000/60000 (97%)]\tLoss: 1.619914\n",
      "\n",
      "Test set: Average loss: 0.0153, Accuracy: 9357/10000 (94%\n",
      "\n",
      "Train Epoch: 2 [0/60000 (0%)]\tLoss: 1.629270\n",
      "Train Epoch: 2 [2000/60000 (3%)]\tLoss: 1.562737\n",
      "Train Epoch: 2 [4000/60000 (7%)]\tLoss: 1.559333\n",
      "Train Epoch: 2 [6000/60000 (10%)]\tLoss: 1.588342\n",
      "Train Epoch: 2 [8000/60000 (13%)]\tLoss: 1.619483\n",
      "Train Epoch: 2 [10000/60000 (17%)]\tLoss: 1.598507\n",
      "Train Epoch: 2 [12000/60000 (20%)]\tLoss: 1.542757\n",
      "Train Epoch: 2 [14000/60000 (23%)]\tLoss: 1.600112\n",
      "Train Epoch: 2 [16000/60000 (27%)]\tLoss: 1.600704\n",
      "Train Epoch: 2 [18000/60000 (30%)]\tLoss: 1.583634\n",
      "Train Epoch: 2 [20000/60000 (33%)]\tLoss: 1.616270\n",
      "Train Epoch: 2 [22000/60000 (37%)]\tLoss: 1.606597\n",
      "Train Epoch: 2 [24000/60000 (40%)]\tLoss: 1.593873\n",
      "Train Epoch: 2 [26000/60000 (43%)]\tLoss: 1.567079\n",
      "Train Epoch: 2 [28000/60000 (47%)]\tLoss: 1.632153\n",
      "Train Epoch: 2 [30000/60000 (50%)]\tLoss: 1.651933\n",
      "Train Epoch: 2 [32000/60000 (53%)]\tLoss: 1.586190\n",
      "Train Epoch: 2 [34000/60000 (57%)]\tLoss: 1.617029\n",
      "Train Epoch: 2 [36000/60000 (60%)]\tLoss: 1.592990\n",
      "Train Epoch: 2 [38000/60000 (63%)]\tLoss: 1.583899\n",
      "Train Epoch: 2 [40000/60000 (67%)]\tLoss: 1.624175\n",
      "Train Epoch: 2 [42000/60000 (70%)]\tLoss: 1.544243\n",
      "Train Epoch: 2 [44000/60000 (73%)]\tLoss: 1.621521\n",
      "Train Epoch: 2 [46000/60000 (77%)]\tLoss: 1.590406\n",
      "Train Epoch: 2 [48000/60000 (80%)]\tLoss: 1.598992\n",
      "Train Epoch: 2 [50000/60000 (83%)]\tLoss: 1.583023\n",
      "Train Epoch: 2 [52000/60000 (87%)]\tLoss: 1.615127\n",
      "Train Epoch: 2 [54000/60000 (90%)]\tLoss: 1.574720\n",
      "Train Epoch: 2 [56000/60000 (93%)]\tLoss: 1.580039\n",
      "Train Epoch: 2 [58000/60000 (97%)]\tLoss: 1.549043\n",
      "\n",
      "Test set: Average loss: 0.0151, Accuracy: 9520/10000 (95%\n",
      "\n",
      "Train Epoch: 3 [0/60000 (0%)]\tLoss: 1.537888\n",
      "Train Epoch: 3 [2000/60000 (3%)]\tLoss: 1.541487\n",
      "Train Epoch: 3 [4000/60000 (7%)]\tLoss: 1.599487\n",
      "Train Epoch: 3 [6000/60000 (10%)]\tLoss: 1.599428\n",
      "Train Epoch: 3 [8000/60000 (13%)]\tLoss: 1.583951\n",
      "Train Epoch: 3 [10000/60000 (17%)]\tLoss: 1.574991\n",
      "Train Epoch: 3 [12000/60000 (20%)]\tLoss: 1.535092\n",
      "Train Epoch: 3 [14000/60000 (23%)]\tLoss: 1.553863\n",
      "Train Epoch: 3 [16000/60000 (27%)]\tLoss: 1.536211\n",
      "Train Epoch: 3 [18000/60000 (30%)]\tLoss: 1.544666\n",
      "Train Epoch: 3 [20000/60000 (33%)]\tLoss: 1.587870\n",
      "Train Epoch: 3 [22000/60000 (37%)]\tLoss: 1.599261\n",
      "Train Epoch: 3 [24000/60000 (40%)]\tLoss: 1.574522\n",
      "Train Epoch: 3 [26000/60000 (43%)]\tLoss: 1.585050\n",
      "Train Epoch: 3 [28000/60000 (47%)]\tLoss: 1.539152\n",
      "Train Epoch: 3 [30000/60000 (50%)]\tLoss: 1.583916\n",
      "Train Epoch: 3 [32000/60000 (53%)]\tLoss: 1.536575\n",
      "Train Epoch: 3 [34000/60000 (57%)]\tLoss: 1.564162\n",
      "Train Epoch: 3 [36000/60000 (60%)]\tLoss: 1.573497\n",
      "Train Epoch: 3 [38000/60000 (63%)]\tLoss: 1.579869\n",
      "Train Epoch: 3 [40000/60000 (67%)]\tLoss: 1.550153\n",
      "Train Epoch: 3 [42000/60000 (70%)]\tLoss: 1.541687\n",
      "Train Epoch: 3 [44000/60000 (73%)]\tLoss: 1.559443\n",
      "Train Epoch: 3 [46000/60000 (77%)]\tLoss: 1.551083\n",
      "Train Epoch: 3 [48000/60000 (80%)]\tLoss: 1.523149\n",
      "Train Epoch: 3 [50000/60000 (83%)]\tLoss: 1.555028\n",
      "Train Epoch: 3 [52000/60000 (87%)]\tLoss: 1.558856\n",
      "Train Epoch: 3 [54000/60000 (90%)]\tLoss: 1.547442\n",
      "Train Epoch: 3 [56000/60000 (93%)]\tLoss: 1.557164\n",
      "Train Epoch: 3 [58000/60000 (97%)]\tLoss: 1.545298\n",
      "\n",
      "Test set: Average loss: 0.0150, Accuracy: 9611/10000 (96%\n",
      "\n",
      "Train Epoch: 4 [0/60000 (0%)]\tLoss: 1.533059\n",
      "Train Epoch: 4 [2000/60000 (3%)]\tLoss: 1.578406\n",
      "Train Epoch: 4 [4000/60000 (7%)]\tLoss: 1.570399\n",
      "Train Epoch: 4 [6000/60000 (10%)]\tLoss: 1.553647\n",
      "Train Epoch: 4 [8000/60000 (13%)]\tLoss: 1.548206\n",
      "Train Epoch: 4 [10000/60000 (17%)]\tLoss: 1.516073\n",
      "Train Epoch: 4 [12000/60000 (20%)]\tLoss: 1.565622\n",
      "Train Epoch: 4 [14000/60000 (23%)]\tLoss: 1.521295\n",
      "Train Epoch: 4 [16000/60000 (27%)]\tLoss: 1.558300\n",
      "Train Epoch: 4 [18000/60000 (30%)]\tLoss: 1.513801\n",
      "Train Epoch: 4 [20000/60000 (33%)]\tLoss: 1.536431\n",
      "Train Epoch: 4 [22000/60000 (37%)]\tLoss: 1.551312\n",
      "Train Epoch: 4 [24000/60000 (40%)]\tLoss: 1.588148\n",
      "Train Epoch: 4 [26000/60000 (43%)]\tLoss: 1.505122\n",
      "Train Epoch: 4 [28000/60000 (47%)]\tLoss: 1.519559\n",
      "Train Epoch: 4 [30000/60000 (50%)]\tLoss: 1.502798\n",
      "Train Epoch: 4 [32000/60000 (53%)]\tLoss: 1.562365\n",
      "Train Epoch: 4 [34000/60000 (57%)]\tLoss: 1.551190\n",
      "Train Epoch: 4 [36000/60000 (60%)]\tLoss: 1.594552\n",
      "Train Epoch: 4 [38000/60000 (63%)]\tLoss: 1.554157\n",
      "Train Epoch: 4 [40000/60000 (67%)]\tLoss: 1.557020\n",
      "Train Epoch: 4 [42000/60000 (70%)]\tLoss: 1.567437\n",
      "Train Epoch: 4 [44000/60000 (73%)]\tLoss: 1.534765\n",
      "Train Epoch: 4 [46000/60000 (77%)]\tLoss: 1.553796\n",
      "Train Epoch: 4 [48000/60000 (80%)]\tLoss: 1.524575\n",
      "Train Epoch: 4 [50000/60000 (83%)]\tLoss: 1.522141\n",
      "Train Epoch: 4 [52000/60000 (87%)]\tLoss: 1.585888\n",
      "Train Epoch: 4 [54000/60000 (90%)]\tLoss: 1.532187\n",
      "Train Epoch: 4 [56000/60000 (93%)]\tLoss: 1.506304\n",
      "Train Epoch: 4 [58000/60000 (97%)]\tLoss: 1.528576\n",
      "\n",
      "Test set: Average loss: 0.0150, Accuracy: 9652/10000 (97%\n",
      "\n",
      "Train Epoch: 5 [0/60000 (0%)]\tLoss: 1.535830\n",
      "Train Epoch: 5 [2000/60000 (3%)]\tLoss: 1.529896\n",
      "Train Epoch: 5 [4000/60000 (7%)]\tLoss: 1.486883\n",
      "Train Epoch: 5 [6000/60000 (10%)]\tLoss: 1.537104\n",
      "Train Epoch: 5 [8000/60000 (13%)]\tLoss: 1.537695\n",
      "Train Epoch: 5 [10000/60000 (17%)]\tLoss: 1.529727\n",
      "Train Epoch: 5 [12000/60000 (20%)]\tLoss: 1.573022\n",
      "Train Epoch: 5 [14000/60000 (23%)]\tLoss: 1.539787\n",
      "Train Epoch: 5 [16000/60000 (27%)]\tLoss: 1.579724\n",
      "Train Epoch: 5 [18000/60000 (30%)]\tLoss: 1.544918\n",
      "Train Epoch: 5 [20000/60000 (33%)]\tLoss: 1.508437\n",
      "Train Epoch: 5 [22000/60000 (37%)]\tLoss: 1.566382\n",
      "Train Epoch: 5 [24000/60000 (40%)]\tLoss: 1.550435\n",
      "Train Epoch: 5 [26000/60000 (43%)]\tLoss: 1.500121\n",
      "Train Epoch: 5 [28000/60000 (47%)]\tLoss: 1.535146\n",
      "Train Epoch: 5 [30000/60000 (50%)]\tLoss: 1.546172\n",
      "Train Epoch: 5 [32000/60000 (53%)]\tLoss: 1.567597\n",
      "Train Epoch: 5 [34000/60000 (57%)]\tLoss: 1.536900\n",
      "Train Epoch: 5 [36000/60000 (60%)]\tLoss: 1.496567\n",
      "Train Epoch: 5 [38000/60000 (63%)]\tLoss: 1.526858\n",
      "Train Epoch: 5 [40000/60000 (67%)]\tLoss: 1.559814\n",
      "Train Epoch: 5 [42000/60000 (70%)]\tLoss: 1.570952\n",
      "Train Epoch: 5 [44000/60000 (73%)]\tLoss: 1.553504\n",
      "Train Epoch: 5 [46000/60000 (77%)]\tLoss: 1.573604\n",
      "Train Epoch: 5 [48000/60000 (80%)]\tLoss: 1.575273\n",
      "Train Epoch: 5 [50000/60000 (83%)]\tLoss: 1.557113\n",
      "Train Epoch: 5 [52000/60000 (87%)]\tLoss: 1.536427\n",
      "Train Epoch: 5 [54000/60000 (90%)]\tLoss: 1.537126\n",
      "Train Epoch: 5 [56000/60000 (93%)]\tLoss: 1.545278\n",
      "Train Epoch: 5 [58000/60000 (97%)]\tLoss: 1.572718\n",
      "\n",
      "Test set: Average loss: 0.0149, Accuracy: 9720/10000 (97%\n",
      "\n",
      "Train Epoch: 6 [0/60000 (0%)]\tLoss: 1.533517\n",
      "Train Epoch: 6 [2000/60000 (3%)]\tLoss: 1.519785\n",
      "Train Epoch: 6 [4000/60000 (7%)]\tLoss: 1.521931\n",
      "Train Epoch: 6 [6000/60000 (10%)]\tLoss: 1.516933\n",
      "Train Epoch: 6 [8000/60000 (13%)]\tLoss: 1.532173\n",
      "Train Epoch: 6 [10000/60000 (17%)]\tLoss: 1.541711\n",
      "Train Epoch: 6 [12000/60000 (20%)]\tLoss: 1.567288\n",
      "Train Epoch: 6 [14000/60000 (23%)]\tLoss: 1.551358\n",
      "Train Epoch: 6 [16000/60000 (27%)]\tLoss: 1.555784\n",
      "Train Epoch: 6 [18000/60000 (30%)]\tLoss: 1.535269\n",
      "Train Epoch: 6 [20000/60000 (33%)]\tLoss: 1.529692\n",
      "Train Epoch: 6 [22000/60000 (37%)]\tLoss: 1.532873\n",
      "Train Epoch: 6 [24000/60000 (40%)]\tLoss: 1.533027\n",
      "Train Epoch: 6 [26000/60000 (43%)]\tLoss: 1.509419\n",
      "Train Epoch: 6 [28000/60000 (47%)]\tLoss: 1.550078\n",
      "Train Epoch: 6 [30000/60000 (50%)]\tLoss: 1.542566\n",
      "Train Epoch: 6 [32000/60000 (53%)]\tLoss: 1.502799\n",
      "Train Epoch: 6 [34000/60000 (57%)]\tLoss: 1.581988\n",
      "Train Epoch: 6 [36000/60000 (60%)]\tLoss: 1.567581\n",
      "Train Epoch: 6 [38000/60000 (63%)]\tLoss: 1.524236\n",
      "Train Epoch: 6 [40000/60000 (67%)]\tLoss: 1.541141\n",
      "Train Epoch: 6 [42000/60000 (70%)]\tLoss: 1.506763\n",
      "Train Epoch: 6 [44000/60000 (73%)]\tLoss: 1.504004\n",
      "Train Epoch: 6 [46000/60000 (77%)]\tLoss: 1.521139\n",
      "Train Epoch: 6 [48000/60000 (80%)]\tLoss: 1.517277\n",
      "Train Epoch: 6 [50000/60000 (83%)]\tLoss: 1.504788\n",
      "Train Epoch: 6 [52000/60000 (87%)]\tLoss: 1.489571\n",
      "Train Epoch: 6 [54000/60000 (90%)]\tLoss: 1.544864\n",
      "Train Epoch: 6 [56000/60000 (93%)]\tLoss: 1.532727\n",
      "Train Epoch: 6 [58000/60000 (97%)]\tLoss: 1.544274\n",
      "\n",
      "Test set: Average loss: 0.0149, Accuracy: 9717/10000 (97%\n",
      "\n",
      "Train Epoch: 7 [0/60000 (0%)]\tLoss: 1.537555\n",
      "Train Epoch: 7 [2000/60000 (3%)]\tLoss: 1.527560\n",
      "Train Epoch: 7 [4000/60000 (7%)]\tLoss: 1.506960\n",
      "Train Epoch: 7 [6000/60000 (10%)]\tLoss: 1.512043\n",
      "Train Epoch: 7 [8000/60000 (13%)]\tLoss: 1.519470\n",
      "Train Epoch: 7 [10000/60000 (17%)]\tLoss: 1.549888\n",
      "Train Epoch: 7 [12000/60000 (20%)]\tLoss: 1.579543\n",
      "Train Epoch: 7 [14000/60000 (23%)]\tLoss: 1.515269\n",
      "Train Epoch: 7 [16000/60000 (27%)]\tLoss: 1.518402\n",
      "Train Epoch: 7 [18000/60000 (30%)]\tLoss: 1.489327\n",
      "Train Epoch: 7 [20000/60000 (33%)]\tLoss: 1.506127\n",
      "Train Epoch: 7 [22000/60000 (37%)]\tLoss: 1.535832\n",
      "Train Epoch: 7 [24000/60000 (40%)]\tLoss: 1.543533\n",
      "Train Epoch: 7 [26000/60000 (43%)]\tLoss: 1.537431\n",
      "Train Epoch: 7 [28000/60000 (47%)]\tLoss: 1.561716\n",
      "Train Epoch: 7 [30000/60000 (50%)]\tLoss: 1.502188\n",
      "Train Epoch: 7 [32000/60000 (53%)]\tLoss: 1.530499\n",
      "Train Epoch: 7 [34000/60000 (57%)]\tLoss: 1.504518\n",
      "Train Epoch: 7 [36000/60000 (60%)]\tLoss: 1.552952\n",
      "Train Epoch: 7 [38000/60000 (63%)]\tLoss: 1.541417\n",
      "Train Epoch: 7 [40000/60000 (67%)]\tLoss: 1.534797\n",
      "Train Epoch: 7 [42000/60000 (70%)]\tLoss: 1.512573\n",
      "Train Epoch: 7 [44000/60000 (73%)]\tLoss: 1.493520\n",
      "Train Epoch: 7 [46000/60000 (77%)]\tLoss: 1.523683\n",
      "Train Epoch: 7 [48000/60000 (80%)]\tLoss: 1.544253\n",
      "Train Epoch: 7 [50000/60000 (83%)]\tLoss: 1.553493\n",
      "Train Epoch: 7 [52000/60000 (87%)]\tLoss: 1.538868\n",
      "Train Epoch: 7 [54000/60000 (90%)]\tLoss: 1.512824\n",
      "Train Epoch: 7 [56000/60000 (93%)]\tLoss: 1.531299\n",
      "Train Epoch: 7 [58000/60000 (97%)]\tLoss: 1.480200\n",
      "\n",
      "Test set: Average loss: 0.0149, Accuracy: 9720/10000 (97%\n",
      "\n",
      "Train Epoch: 8 [0/60000 (0%)]\tLoss: 1.556902\n",
      "Train Epoch: 8 [2000/60000 (3%)]\tLoss: 1.519781\n",
      "Train Epoch: 8 [4000/60000 (7%)]\tLoss: 1.544664\n",
      "Train Epoch: 8 [6000/60000 (10%)]\tLoss: 1.577803\n",
      "Train Epoch: 8 [8000/60000 (13%)]\tLoss: 1.533738\n",
      "Train Epoch: 8 [10000/60000 (17%)]\tLoss: 1.538749\n",
      "Train Epoch: 8 [12000/60000 (20%)]\tLoss: 1.521378\n",
      "Train Epoch: 8 [14000/60000 (23%)]\tLoss: 1.509195\n",
      "Train Epoch: 8 [16000/60000 (27%)]\tLoss: 1.517343\n",
      "Train Epoch: 8 [18000/60000 (30%)]\tLoss: 1.557223\n",
      "Train Epoch: 8 [20000/60000 (33%)]\tLoss: 1.523607\n",
      "Train Epoch: 8 [22000/60000 (37%)]\tLoss: 1.545531\n",
      "Train Epoch: 8 [24000/60000 (40%)]\tLoss: 1.531108\n",
      "Train Epoch: 8 [26000/60000 (43%)]\tLoss: 1.551256\n",
      "Train Epoch: 8 [28000/60000 (47%)]\tLoss: 1.530327\n",
      "Train Epoch: 8 [30000/60000 (50%)]\tLoss: 1.491244\n",
      "Train Epoch: 8 [32000/60000 (53%)]\tLoss: 1.525729\n",
      "Train Epoch: 8 [34000/60000 (57%)]\tLoss: 1.531728\n",
      "Train Epoch: 8 [36000/60000 (60%)]\tLoss: 1.534091\n",
      "Train Epoch: 8 [38000/60000 (63%)]\tLoss: 1.536505\n",
      "Train Epoch: 8 [40000/60000 (67%)]\tLoss: 1.508258\n",
      "Train Epoch: 8 [42000/60000 (70%)]\tLoss: 1.491889\n",
      "Train Epoch: 8 [44000/60000 (73%)]\tLoss: 1.498107\n",
      "Train Epoch: 8 [46000/60000 (77%)]\tLoss: 1.508454\n",
      "Train Epoch: 8 [48000/60000 (80%)]\tLoss: 1.545863\n",
      "Train Epoch: 8 [50000/60000 (83%)]\tLoss: 1.516895\n",
      "Train Epoch: 8 [52000/60000 (87%)]\tLoss: 1.518083\n",
      "Train Epoch: 8 [54000/60000 (90%)]\tLoss: 1.487849\n",
      "Train Epoch: 8 [56000/60000 (93%)]\tLoss: 1.530117\n",
      "Train Epoch: 8 [58000/60000 (97%)]\tLoss: 1.505265\n",
      "\n",
      "Test set: Average loss: 0.0149, Accuracy: 9735/10000 (97%\n",
      "\n",
      "Train Epoch: 9 [0/60000 (0%)]\tLoss: 1.541715\n",
      "Train Epoch: 9 [2000/60000 (3%)]\tLoss: 1.484000\n",
      "Train Epoch: 9 [4000/60000 (7%)]\tLoss: 1.521997\n",
      "Train Epoch: 9 [6000/60000 (10%)]\tLoss: 1.558038\n",
      "Train Epoch: 9 [8000/60000 (13%)]\tLoss: 1.482360\n",
      "Train Epoch: 9 [10000/60000 (17%)]\tLoss: 1.501993\n",
      "Train Epoch: 9 [12000/60000 (20%)]\tLoss: 1.532036\n",
      "Train Epoch: 9 [14000/60000 (23%)]\tLoss: 1.537394\n",
      "Train Epoch: 9 [16000/60000 (27%)]\tLoss: 1.551469\n",
      "Train Epoch: 9 [18000/60000 (30%)]\tLoss: 1.537385\n",
      "Train Epoch: 9 [20000/60000 (33%)]\tLoss: 1.557301\n",
      "Train Epoch: 9 [22000/60000 (37%)]\tLoss: 1.517636\n",
      "Train Epoch: 9 [24000/60000 (40%)]\tLoss: 1.516364\n",
      "Train Epoch: 9 [26000/60000 (43%)]\tLoss: 1.533426\n",
      "Train Epoch: 9 [28000/60000 (47%)]\tLoss: 1.540900\n",
      "Train Epoch: 9 [30000/60000 (50%)]\tLoss: 1.530311\n",
      "Train Epoch: 9 [32000/60000 (53%)]\tLoss: 1.510727\n",
      "Train Epoch: 9 [34000/60000 (57%)]\tLoss: 1.510723\n",
      "Train Epoch: 9 [36000/60000 (60%)]\tLoss: 1.525428\n",
      "Train Epoch: 9 [38000/60000 (63%)]\tLoss: 1.544982\n",
      "Train Epoch: 9 [40000/60000 (67%)]\tLoss: 1.528826\n",
      "Train Epoch: 9 [42000/60000 (70%)]\tLoss: 1.501716\n",
      "Train Epoch: 9 [44000/60000 (73%)]\tLoss: 1.502355\n",
      "Train Epoch: 9 [46000/60000 (77%)]\tLoss: 1.522683\n",
      "Train Epoch: 9 [48000/60000 (80%)]\tLoss: 1.504941\n",
      "Train Epoch: 9 [50000/60000 (83%)]\tLoss: 1.523230\n",
      "Train Epoch: 9 [52000/60000 (87%)]\tLoss: 1.527054\n",
      "Train Epoch: 9 [54000/60000 (90%)]\tLoss: 1.530606\n",
      "Train Epoch: 9 [56000/60000 (93%)]\tLoss: 1.514042\n",
      "Train Epoch: 9 [58000/60000 (97%)]\tLoss: 1.562156\n",
      "\n",
      "Test set: Average loss: 0.0149, Accuracy: 9750/10000 (98%\n",
      "\n",
      "Train Epoch: 10 [0/60000 (0%)]\tLoss: 1.547778\n",
      "Train Epoch: 10 [2000/60000 (3%)]\tLoss: 1.572936\n",
      "Train Epoch: 10 [4000/60000 (7%)]\tLoss: 1.487835\n",
      "Train Epoch: 10 [6000/60000 (10%)]\tLoss: 1.580671\n",
      "Train Epoch: 10 [8000/60000 (13%)]\tLoss: 1.576689\n",
      "Train Epoch: 10 [10000/60000 (17%)]\tLoss: 1.538943\n",
      "Train Epoch: 10 [12000/60000 (20%)]\tLoss: 1.532471\n",
      "Train Epoch: 10 [14000/60000 (23%)]\tLoss: 1.493491\n",
      "Train Epoch: 10 [16000/60000 (27%)]\tLoss: 1.524231\n",
      "Train Epoch: 10 [18000/60000 (30%)]\tLoss: 1.521061\n",
      "Train Epoch: 10 [20000/60000 (33%)]\tLoss: 1.519491\n",
      "Train Epoch: 10 [22000/60000 (37%)]\tLoss: 1.508449\n",
      "Train Epoch: 10 [24000/60000 (40%)]\tLoss: 1.515762\n",
      "Train Epoch: 10 [26000/60000 (43%)]\tLoss: 1.543459\n",
      "Train Epoch: 10 [28000/60000 (47%)]\tLoss: 1.523344\n",
      "Train Epoch: 10 [30000/60000 (50%)]\tLoss: 1.473847\n",
      "Train Epoch: 10 [32000/60000 (53%)]\tLoss: 1.533783\n",
      "Train Epoch: 10 [34000/60000 (57%)]\tLoss: 1.560788\n",
      "Train Epoch: 10 [36000/60000 (60%)]\tLoss: 1.494656\n",
      "Train Epoch: 10 [38000/60000 (63%)]\tLoss: 1.544295\n",
      "Train Epoch: 10 [40000/60000 (67%)]\tLoss: 1.511754\n",
      "Train Epoch: 10 [42000/60000 (70%)]\tLoss: 1.502941\n",
      "Train Epoch: 10 [44000/60000 (73%)]\tLoss: 1.547996\n",
      "Train Epoch: 10 [46000/60000 (77%)]\tLoss: 1.519096\n",
      "Train Epoch: 10 [48000/60000 (80%)]\tLoss: 1.550061\n",
      "Train Epoch: 10 [50000/60000 (83%)]\tLoss: 1.571440\n",
      "Train Epoch: 10 [52000/60000 (87%)]\tLoss: 1.547650\n",
      "Train Epoch: 10 [54000/60000 (90%)]\tLoss: 1.499751\n",
      "Train Epoch: 10 [56000/60000 (93%)]\tLoss: 1.550692\n",
      "Train Epoch: 10 [58000/60000 (97%)]\tLoss: 1.566388\n",
      "\n",
      "Test set: Average loss: 0.0148, Accuracy: 9761/10000 (98%\n",
      "\n"
     ]
    }
   ],
   "source": [
    "for epoch in range(1, 11):\n",
    "    train(epoch)\n",
    "    test()"
   ]
  },
  {
   "cell_type": "code",
   "execution_count": 31,
   "metadata": {},
   "outputs": [
    {
     "data": {
      "text/plain": [
       "device(type='cpu')"
      ]
     },
     "execution_count": 31,
     "metadata": {},
     "output_type": "execute_result"
    }
   ],
   "source": [
    "device"
   ]
  },
  {
   "cell_type": "code",
   "execution_count": 35,
   "metadata": {},
   "outputs": [
    {
     "name": "stdout",
     "output_type": "stream",
     "text": [
      "Predicition: 0\n"
     ]
    },
    {
     "data": {
      "image/png": "[encoded data removed]",
      "text/plain": [
       "<Figure size 640x480 with 1 Axes>"
      ]
     },
     "metadata": {},
     "output_type": "display_data"
    }
   ],
   "source": [
    "import matplotlib.pyplot as plt\n",
    "import torch\n",
    "\n",
    "# Set the model to evaluation mode\n",
    "model.eval()\n",
    "\n",
    "# Get a test data sample (assuming `test_data` is a DataLoader or similar object)\n",
    "data, target = test_data[3]  # Retrieve the first test sample\n",
    "\n",
    "# Prepare the data (unsqueeze to add batch dimension and move to the correct device)\n",
    "data = data.unsqueeze(0).to(device)\n",
    "\n",
    "# Perform the prediction\n",
    "output = model(data)\n",
    "\n",
    "# Get the predicted class (argmax across the output dimension)\n",
    "prediction = output.argmax(dim=1, keepdim=True).item()\n",
    "\n",
    "print(f'Predicition: {prediction}')\n",
    "\n",
    "image = data.squeeze(0).squeeze(0).cpu().numpy()\n",
    "\n",
    "plt.imshow(image, cmap='gray')\n",
    "plt.show()\n"
   ]
  },
  {
   "cell_type": "code",
   "execution_count": null,
   "metadata": {},
   "outputs": [],
   "source": []
  }
 ],
 "metadata": {
  "kernelspec": {
   "display_name": "Python 3",
   "language": "python",
   "name": "python3"
  },
  "language_info": {
   "codemirror_mode": {
    "name": "ipython",
    "version": 3
   },
   "file_extension": ".py",
   "mimetype": "text/x-python",
   "name": "python",
   "nbconvert_exporter": "python",
   "pygments_lexer": "ipython3",
   "version": "3.11.9"
  }
 },
 "nbformat": 4,
 "nbformat_minor": 2
}
